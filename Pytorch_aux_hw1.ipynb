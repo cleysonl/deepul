{
  "nbformat": 4,
  "nbformat_minor": 0,
  "metadata": {
    "colab": {
      "name": "Pytorch aux hw1.ipynb",
      "provenance": [],
      "authorship_tag": "ABX9TyMy080Ee775vGG1s/K8hBGg",
      "include_colab_link": true
    },
    "kernelspec": {
      "name": "python3",
      "display_name": "Python 3"
    }
  },
  "cells": [
    {
      "cell_type": "markdown",
      "metadata": {
        "id": "view-in-github",
        "colab_type": "text"
      },
      "source": [
        "<a href=\"https://colab.research.google.com/github/cleysonl/deepul/blob/deepul-branch-2/Pytorch_aux_hw1.ipynb\" target=\"_parent\"><img src=\"https://colab.research.google.com/assets/colab-badge.svg\" alt=\"Open In Colab\"/></a>"
      ]
    },
    {
      "cell_type": "code",
      "metadata": {
        "id": "tqEW1qUPAO4z",
        "colab_type": "code",
        "colab": {}
      },
      "source": [
        "import torch\n",
        "import torch.nn as nn\n",
        "import torch.nn.functional as F\n",
        "import numpy as np"
      ],
      "execution_count": 0,
      "outputs": []
    },
    {
      "cell_type": "code",
      "metadata": {
        "id": "1Wn-vHEgAQQp",
        "colab_type": "code",
        "colab": {}
      },
      "source": [
        "x = torch.zeros(100)\n",
        "logits = nn.Parameter(x, requires_grad=True)"
      ],
      "execution_count": 0,
      "outputs": []
    },
    {
      "cell_type": "code",
      "metadata": {
        "id": "S3CwedpgAlJV",
        "colab_type": "code",
        "outputId": "24633173-9074-4574-8bd4-9366dce9ff47",
        "colab": {
          "base_uri": "https://localhost:8080/",
          "height": 34
        }
      },
      "source": [
        "# x.shape\n",
        "logits.shape"
      ],
      "execution_count": 3,
      "outputs": [
        {
          "output_type": "execute_result",
          "data": {
            "text/plain": [
              "torch.Size([100])"
            ]
          },
          "metadata": {
            "tags": []
          },
          "execution_count": 3
        }
      ]
    },
    {
      "cell_type": "code",
      "metadata": {
        "id": "4yJM-ICDAoMX",
        "colab_type": "code",
        "outputId": "3a479004-5d15-43ff-d4e9-13a9dfcd945c",
        "colab": {
          "base_uri": "https://localhost:8080/",
          "height": 105
        }
      },
      "source": [
        "logits.unsqueeze(0)"
      ],
      "execution_count": 4,
      "outputs": [
        {
          "output_type": "execute_result",
          "data": {
            "text/plain": [
              "tensor([[0., 0., 0., 0., 0., 0., 0., 0., 0., 0., 0., 0., 0., 0., 0., 0., 0., 0., 0., 0., 0., 0., 0., 0.,\n",
              "         0., 0., 0., 0., 0., 0., 0., 0., 0., 0., 0., 0., 0., 0., 0., 0., 0., 0., 0., 0., 0., 0., 0., 0.,\n",
              "         0., 0., 0., 0., 0., 0., 0., 0., 0., 0., 0., 0., 0., 0., 0., 0., 0., 0., 0., 0., 0., 0., 0., 0.,\n",
              "         0., 0., 0., 0., 0., 0., 0., 0., 0., 0., 0., 0., 0., 0., 0., 0., 0., 0., 0., 0., 0., 0., 0., 0.,\n",
              "         0., 0., 0., 0.]], grad_fn=<UnsqueezeBackward0>)"
            ]
          },
          "metadata": {
            "tags": []
          },
          "execution_count": 4
        }
      ]
    },
    {
      "cell_type": "code",
      "metadata": {
        "id": "JZS4kelpAuKr",
        "colab_type": "code",
        "outputId": "cfdd1eb1-e12c-4d73-89f1-d08f5ca81d17",
        "colab": {
          "base_uri": "https://localhost:8080/",
          "height": 123
        }
      },
      "source": [
        "logits"
      ],
      "execution_count": 5,
      "outputs": [
        {
          "output_type": "execute_result",
          "data": {
            "text/plain": [
              "Parameter containing:\n",
              "tensor([0., 0., 0., 0., 0., 0., 0., 0., 0., 0., 0., 0., 0., 0., 0., 0., 0., 0., 0., 0., 0., 0., 0., 0.,\n",
              "        0., 0., 0., 0., 0., 0., 0., 0., 0., 0., 0., 0., 0., 0., 0., 0., 0., 0., 0., 0., 0., 0., 0., 0.,\n",
              "        0., 0., 0., 0., 0., 0., 0., 0., 0., 0., 0., 0., 0., 0., 0., 0., 0., 0., 0., 0., 0., 0., 0., 0.,\n",
              "        0., 0., 0., 0., 0., 0., 0., 0., 0., 0., 0., 0., 0., 0., 0., 0., 0., 0., 0., 0., 0., 0., 0., 0.,\n",
              "        0., 0., 0., 0.], requires_grad=True)"
            ]
          },
          "metadata": {
            "tags": []
          },
          "execution_count": 5
        }
      ]
    },
    {
      "cell_type": "code",
      "metadata": {
        "id": "o8wsm92RA-V6",
        "colab_type": "code",
        "outputId": "ed1dabbc-93e6-4a2f-a33e-6d40079ce301",
        "colab": {
          "base_uri": "https://localhost:8080/",
          "height": 141
        }
      },
      "source": [
        "logits.unsqueeze(0).repeat(x.shape[0],1)"
      ],
      "execution_count": 6,
      "outputs": [
        {
          "output_type": "execute_result",
          "data": {
            "text/plain": [
              "tensor([[0., 0., 0.,  ..., 0., 0., 0.],\n",
              "        [0., 0., 0.,  ..., 0., 0., 0.],\n",
              "        [0., 0., 0.,  ..., 0., 0., 0.],\n",
              "        ...,\n",
              "        [0., 0., 0.,  ..., 0., 0., 0.],\n",
              "        [0., 0., 0.,  ..., 0., 0., 0.],\n",
              "        [0., 0., 0.,  ..., 0., 0., 0.]], grad_fn=<RepeatBackward>)"
            ]
          },
          "metadata": {
            "tags": []
          },
          "execution_count": 6
        }
      ]
    },
    {
      "cell_type": "code",
      "metadata": {
        "id": "Ut9pbk8dBOMC",
        "colab_type": "code",
        "outputId": "c8f7babd-363d-4988-b6d5-279ae1fda426",
        "colab": {
          "base_uri": "https://localhost:8080/",
          "height": 141
        }
      },
      "source": [
        "logits.unsqueeze(0).repeat(x.shape[0],1)"
      ],
      "execution_count": 7,
      "outputs": [
        {
          "output_type": "execute_result",
          "data": {
            "text/plain": [
              "tensor([[0., 0., 0.,  ..., 0., 0., 0.],\n",
              "        [0., 0., 0.,  ..., 0., 0., 0.],\n",
              "        [0., 0., 0.,  ..., 0., 0., 0.],\n",
              "        ...,\n",
              "        [0., 0., 0.,  ..., 0., 0., 0.],\n",
              "        [0., 0., 0.,  ..., 0., 0., 0.],\n",
              "        [0., 0., 0.,  ..., 0., 0., 0.]], grad_fn=<RepeatBackward>)"
            ]
          },
          "metadata": {
            "tags": []
          },
          "execution_count": 7
        }
      ]
    },
    {
      "cell_type": "code",
      "metadata": {
        "id": "vwhw-w9vE7C1",
        "colab_type": "code",
        "colab": {}
      },
      "source": [
        "y = F.softmax(logits, dim=0).unsqueeze(1).repeat(1, 1000 // 100).view(-1)"
      ],
      "execution_count": 0,
      "outputs": []
    },
    {
      "cell_type": "code",
      "metadata": {
        "id": "wcOhVXX6GlCY",
        "colab_type": "code",
        "outputId": "3a4c119d-0e39-4f79-e0bb-06a9bd93f9ad",
        "colab": {
          "base_uri": "https://localhost:8080/",
          "height": 34
        }
      },
      "source": [
        "print(y.shape)"
      ],
      "execution_count": 9,
      "outputs": [
        {
          "output_type": "stream",
          "text": [
            "torch.Size([1000])\n"
          ],
          "name": "stdout"
        }
      ]
    },
    {
      "cell_type": "code",
      "metadata": {
        "id": "GeCBz5psG5qk",
        "colab_type": "code",
        "colab": {}
      },
      "source": [
        "means = nn.Parameter(torch.arange(4).float() / (4 - 1) * 100, requires_grad=True)"
      ],
      "execution_count": 0,
      "outputs": []
    },
    {
      "cell_type": "code",
      "metadata": {
        "id": "aAvT20wDH4-v",
        "colab_type": "code",
        "colab": {
          "base_uri": "https://localhost:8080/",
          "height": 34
        },
        "outputId": "c9560464-d395-48d3-9f35-fa7d5733cc44"
      },
      "source": [
        "means.shape"
      ],
      "execution_count": 11,
      "outputs": [
        {
          "output_type": "execute_result",
          "data": {
            "text/plain": [
              "torch.Size([4])"
            ]
          },
          "metadata": {
            "tags": []
          },
          "execution_count": 11
        }
      ]
    },
    {
      "cell_type": "code",
      "metadata": {
        "id": "NmrEk8AqTTWn",
        "colab_type": "code",
        "colab": {
          "base_uri": "https://localhost:8080/",
          "height": 52
        },
        "outputId": "96e4d207-756f-4570-a250-99f8aa2748f4"
      },
      "source": [
        "print(means)"
      ],
      "execution_count": 12,
      "outputs": [
        {
          "output_type": "stream",
          "text": [
            "Parameter containing:\n",
            "tensor([  0.0000,  33.3333,  66.6667, 100.0000], requires_grad=True)\n"
          ],
          "name": "stdout"
        }
      ]
    },
    {
      "cell_type": "code",
      "metadata": {
        "id": "QMt-GjkRTVxr",
        "colab_type": "code",
        "colab": {
          "base_uri": "https://localhost:8080/",
          "height": 52
        },
        "outputId": "2072067b-07e5-41e7-a932-f5e0696de074"
      },
      "source": [
        "means.unsqueeze(0)"
      ],
      "execution_count": 13,
      "outputs": [
        {
          "output_type": "execute_result",
          "data": {
            "text/plain": [
              "tensor([[  0.0000,  33.3333,  66.6667, 100.0000]],\n",
              "       grad_fn=<UnsqueezeBackward0>)"
            ]
          },
          "metadata": {
            "tags": []
          },
          "execution_count": 13
        }
      ]
    },
    {
      "cell_type": "code",
      "metadata": {
        "id": "GcS9YobHTvvN",
        "colab_type": "code",
        "colab": {}
      },
      "source": [
        "log_scales = nn.Parameter(torch.randn(4), requires_grad=True)"
      ],
      "execution_count": 0,
      "outputs": []
    },
    {
      "cell_type": "code",
      "metadata": {
        "id": "SRntwBVLUNX1",
        "colab_type": "code",
        "colab": {
          "base_uri": "https://localhost:8080/",
          "height": 34
        },
        "outputId": "54021a82-7070-495c-dcf3-faedd0383444"
      },
      "source": [
        "inv_scales = torch.exp(-log_scales)\n",
        "inv_scales"
      ],
      "execution_count": 15,
      "outputs": [
        {
          "output_type": "execute_result",
          "data": {
            "text/plain": [
              "tensor([0.5661, 0.4696, 1.9795, 3.7270], grad_fn=<ExpBackward>)"
            ]
          },
          "metadata": {
            "tags": []
          },
          "execution_count": 15
        }
      ]
    },
    {
      "cell_type": "code",
      "metadata": {
        "id": "lmFJhPxBUTHk",
        "colab_type": "code",
        "colab": {}
      },
      "source": [
        "x = 2.\n",
        "plus_in = inv_scales*(x+0.5)\n",
        "min_in = inv_scales*(x-0.5)\n",
        "cdf_plus = torch.sigmoid(plus_in)\n",
        "cdf_min = torch.sigmoid(min_in)"
      ],
      "execution_count": 0,
      "outputs": []
    },
    {
      "cell_type": "code",
      "metadata": {
        "id": "Ne6k3WHAUc4w",
        "colab_type": "code",
        "colab": {
          "base_uri": "https://localhost:8080/",
          "height": 52
        },
        "outputId": "01f20901-2816-45dc-f818-08b5c7a1fcfd"
      },
      "source": [
        "print(cdf_plus)\n",
        "print(cdf_min)"
      ],
      "execution_count": 17,
      "outputs": [
        {
          "output_type": "stream",
          "text": [
            "tensor([0.8046, 0.7639, 0.9930, 0.9999], grad_fn=<SigmoidBackward>)\n",
            "tensor([0.7004, 0.6692, 0.9512, 0.9963], grad_fn=<SigmoidBackward>)\n"
          ],
          "name": "stdout"
        }
      ]
    },
    {
      "cell_type": "code",
      "metadata": {
        "id": "7JXlBwQ3UrWu",
        "colab_type": "code",
        "colab": {
          "base_uri": "https://localhost:8080/",
          "height": 34
        },
        "outputId": "52b98a66-5bc8-4add-856e-cee996e8f450"
      },
      "source": [
        "1/(1+torch.exp(-plus_in))"
      ],
      "execution_count": 18,
      "outputs": [
        {
          "output_type": "execute_result",
          "data": {
            "text/plain": [
              "tensor([0.8046, 0.7639, 0.9930, 0.9999], grad_fn=<MulBackward0>)"
            ]
          },
          "metadata": {
            "tags": []
          },
          "execution_count": 18
        }
      ]
    },
    {
      "cell_type": "code",
      "metadata": {
        "id": "PQ5n1iJbU8YO",
        "colab_type": "code",
        "colab": {
          "base_uri": "https://localhost:8080/",
          "height": 34
        },
        "outputId": "7fec3603-3371-4945-a10a-9eb29b5b19bc"
      },
      "source": [
        "1/(1+torch.exp(-min_in))"
      ],
      "execution_count": 19,
      "outputs": [
        {
          "output_type": "execute_result",
          "data": {
            "text/plain": [
              "tensor([0.7004, 0.6692, 0.9512, 0.9963], grad_fn=<MulBackward0>)"
            ]
          },
          "metadata": {
            "tags": []
          },
          "execution_count": 19
        }
      ]
    },
    {
      "cell_type": "code",
      "metadata": {
        "id": "Hi0izddrVniX",
        "colab_type": "code",
        "colab": {}
      },
      "source": [
        "cdf_delta = cdf_plus - cdf_min"
      ],
      "execution_count": 0,
      "outputs": []
    },
    {
      "cell_type": "code",
      "metadata": {
        "id": "NfZ8T9d_Vsz7",
        "colab_type": "code",
        "colab": {
          "base_uri": "https://localhost:8080/",
          "height": 34
        },
        "outputId": "54bd75f1-8b75-4ded-cb82-3525503c7efb"
      },
      "source": [
        "cdf_delta"
      ],
      "execution_count": 21,
      "outputs": [
        {
          "output_type": "execute_result",
          "data": {
            "text/plain": [
              "tensor([0.1042, 0.0947, 0.0418, 0.0036], grad_fn=<SubBackward0>)"
            ]
          },
          "metadata": {
            "tags": []
          },
          "execution_count": 21
        }
      ]
    },
    {
      "cell_type": "code",
      "metadata": {
        "id": "t51gotcSVuTu",
        "colab_type": "code",
        "colab": {
          "base_uri": "https://localhost:8080/",
          "height": 34
        },
        "outputId": "bb81afff-c014-4299-f62e-01e15f6f80db"
      },
      "source": [
        " log_cdf_delta = torch.log(torch.clamp(cdf_delta, min=1e-12))\n",
        " print(log_cdf_delta)"
      ],
      "execution_count": 22,
      "outputs": [
        {
          "output_type": "stream",
          "text": [
            "tensor([-2.2614, -2.3569, -3.1750, -5.6187], grad_fn=<LogBackward>)\n"
          ],
          "name": "stdout"
        }
      ]
    },
    {
      "cell_type": "code",
      "metadata": {
        "id": "8is-hCGeWEL6",
        "colab_type": "code",
        "colab": {}
      },
      "source": [
        "#  log_cdf_delta = torch.log(cdf_delta)\n",
        "#  print(log_cdf_delta)"
      ],
      "execution_count": 0,
      "outputs": []
    },
    {
      "cell_type": "code",
      "metadata": {
        "id": "lXVpaFKHWLYo",
        "colab_type": "code",
        "colab": {
          "base_uri": "https://localhost:8080/",
          "height": 70
        },
        "outputId": "13304333-232d-4375-f1cc-2b47f9516c28"
      },
      "source": [
        "log_cdf_plus = torch.log(torch.clamp(torch.sigmoid(inv_scales*(0.5 - means)), min=1e-12)) # edge case: x=0 \n",
        "log_cdf_min = torch.log(torch.clamp(1- torch.sigmoid(inv_scales*(100 - 1.5 - means)), min=1e-12)) # edge case: x=d-1\n",
        "print(log_cdf_min)\n",
        "print(log_cdf_plus)"
      ],
      "execution_count": 24,
      "outputs": [
        {
          "output_type": "stream",
          "text": [
            "tensor([-2.7631e+01, -2.7631e+01, -2.7631e+01, -3.7264e-03],\n",
            "       grad_fn=<LogBackward>)\n",
            "tensor([ -0.5616, -15.4198, -27.6310, -27.6310], grad_fn=<LogBackward>)\n"
          ],
          "name": "stdout"
        }
      ]
    },
    {
      "cell_type": "code",
      "metadata": {
        "id": "hoxTc5ogWXxa",
        "colab_type": "code",
        "colab": {}
      },
      "source": [
        "# log_cdf_plus = torch.log(torch.sigmoid(inv_scales*(0.5 - means))) # edge case: x=0 \n",
        "# log_cdf_min = torch.log(1- torch.sigmoid(inv_scales*(100 - 1.5 - means))) # edge case: x=d-1\n",
        "# print(log_cdf_min)\n",
        "# print(log_cdf_plus)"
      ],
      "execution_count": 0,
      "outputs": []
    },
    {
      "cell_type": "markdown",
      "metadata": {
        "id": "QT2HUSv403Ai",
        "colab_type": "text"
      },
      "source": [
        "## **MADE auxiliar**"
      ]
    },
    {
      "cell_type": "code",
      "metadata": {
        "id": "vsxj3VdeWtZA",
        "colab_type": "code",
        "colab": {}
      },
      "source": [
        "net = []\n",
        "nin = 6\n",
        "nout = 6*100\n",
        "hidden_size = [512,512,512]\n",
        "hs = [nin] + hidden_size + [nout]"
      ],
      "execution_count": 0,
      "outputs": []
    },
    {
      "cell_type": "code",
      "metadata": {
        "id": "LLKB8FyoXHPr",
        "colab_type": "code",
        "colab": {
          "base_uri": "https://localhost:8080/",
          "height": 87
        },
        "outputId": "d33f43c4-2a4b-47e4-8640-a3c9c1fdacea"
      },
      "source": [
        "for h0, h1 in zip(hs, hs[1:]):\n",
        "  print(h0, h1)\n",
        "  net.extend([[h0,h1],0])"
      ],
      "execution_count": 29,
      "outputs": [
        {
          "output_type": "stream",
          "text": [
            "6 512\n",
            "512 512\n",
            "512 512\n",
            "512 600\n"
          ],
          "name": "stdout"
        }
      ]
    },
    {
      "cell_type": "code",
      "metadata": {
        "id": "Uq-uzg7-xan8",
        "colab_type": "code",
        "colab": {
          "base_uri": "https://localhost:8080/",
          "height": 34
        },
        "outputId": "d3fb2483-2725-4c0b-cb41-b76d87c0a933"
      },
      "source": [
        "len(hidden_size)"
      ],
      "execution_count": 31,
      "outputs": [
        {
          "output_type": "execute_result",
          "data": {
            "text/plain": [
              "3"
            ]
          },
          "metadata": {
            "tags": []
          },
          "execution_count": 31
        }
      ]
    },
    {
      "cell_type": "code",
      "metadata": {
        "id": "fbd5wTA_x9UF",
        "colab_type": "code",
        "colab": {}
      },
      "source": [
        "m ={}\n",
        "m[-1]= np.arange(nin) \n",
        "for l in range(len(hidden_size)):\n",
        "  m[l]=np.random.randint(m[l-1].min(), nin-1, size = hidden_size[l])"
      ],
      "execution_count": 0,
      "outputs": []
    },
    {
      "cell_type": "code",
      "metadata": {
        "id": "KwnPUnGt0IDl",
        "colab_type": "code",
        "colab": {
          "base_uri": "https://localhost:8080/",
          "height": 1000
        },
        "outputId": "f1a46c1c-e2d9-41dd-bfe9-b17da7ed51c3"
      },
      "source": [
        "m"
      ],
      "execution_count": 37,
      "outputs": [
        {
          "output_type": "execute_result",
          "data": {
            "text/plain": [
              "{-1: array([0, 1, 2, 3, 4, 5]),\n",
              " 0: array([2, 3, 2, 2, 2, 2, 2, 3, 2, 3, 4, 0, 4, 2, 4, 0, 0, 1, 4, 1, 4, 0,\n",
              "        3, 1, 3, 2, 0, 1, 0, 2, 3, 2, 2, 0, 3, 3, 3, 4, 2, 1, 2, 0, 3, 4,\n",
              "        4, 0, 4, 4, 2, 2, 3, 1, 4, 4, 1, 2, 4, 2, 1, 4, 0, 2, 2, 3, 1, 2,\n",
              "        2, 0, 3, 3, 0, 3, 4, 3, 3, 2, 1, 1, 3, 3, 3, 4, 4, 1, 0, 2, 1, 4,\n",
              "        1, 0, 4, 0, 2, 0, 1, 4, 4, 0, 2, 1, 2, 0, 0, 1, 4, 0, 4, 4, 2, 0,\n",
              "        3, 2, 3, 2, 2, 1, 3, 4, 4, 1, 4, 4, 0, 4, 2, 4, 0, 2, 4, 2, 3, 2,\n",
              "        3, 4, 1, 0, 2, 0, 3, 1, 3, 0, 4, 2, 4, 1, 0, 2, 2, 3, 4, 3, 1, 4,\n",
              "        1, 1, 0, 1, 1, 3, 0, 3, 0, 2, 0, 3, 4, 4, 1, 3, 2, 1, 0, 0, 4, 4,\n",
              "        1, 3, 4, 1, 3, 2, 3, 2, 0, 1, 1, 0, 1, 2, 4, 3, 0, 0, 1, 2, 2, 1,\n",
              "        3, 3, 2, 3, 3, 1, 0, 4, 2, 3, 3, 0, 4, 3, 1, 3, 1, 3, 3, 3, 4, 3,\n",
              "        1, 2, 4, 0, 3, 1, 2, 4, 3, 2, 3, 2, 1, 2, 3, 0, 2, 3, 2, 2, 3, 2,\n",
              "        3, 4, 4, 2, 0, 1, 3, 0, 0, 1, 2, 4, 0, 4, 2, 2, 3, 0, 0, 2, 2, 4,\n",
              "        4, 4, 0, 2, 1, 0, 2, 4, 1, 0, 2, 4, 4, 2, 1, 4, 2, 2, 3, 1, 0, 1,\n",
              "        0, 0, 0, 4, 4, 4, 0, 2, 3, 1, 3, 3, 4, 0, 2, 0, 1, 4, 1, 4, 2, 1,\n",
              "        2, 1, 0, 0, 3, 3, 3, 3, 0, 2, 1, 0, 0, 0, 1, 1, 2, 3, 4, 3, 1, 3,\n",
              "        4, 3, 3, 2, 2, 3, 1, 1, 0, 4, 2, 2, 1, 1, 3, 3, 1, 3, 3, 3, 2, 4,\n",
              "        4, 1, 3, 4, 4, 0, 3, 1, 3, 0, 0, 1, 4, 3, 0, 0, 0, 3, 1, 2, 1, 4,\n",
              "        3, 2, 3, 2, 4, 0, 0, 4, 4, 3, 0, 3, 0, 0, 1, 3, 1, 4, 1, 4, 2, 4,\n",
              "        2, 1, 1, 4, 0, 2, 3, 4, 3, 2, 2, 2, 4, 3, 4, 0, 4, 2, 1, 3, 2, 2,\n",
              "        1, 2, 4, 0, 3, 3, 1, 1, 4, 3, 2, 3, 2, 3, 4, 4, 1, 0, 1, 1, 3, 4,\n",
              "        4, 0, 2, 3, 3, 4, 3, 1, 4, 2, 2, 4, 0, 0, 3, 1, 1, 2, 3, 1, 1, 0,\n",
              "        2, 4, 2, 1, 4, 0, 0, 0, 1, 2, 1, 0, 0, 4, 4, 4, 3, 2, 2, 4, 3, 0,\n",
              "        3, 4, 3, 3, 3, 3, 1, 0, 4, 3, 2, 4, 3, 4, 1, 0, 1, 1, 4, 3, 1, 2,\n",
              "        0, 2, 1, 3, 3, 2]),\n",
              " 1: array([4, 4, 3, 3, 3, 2, 2, 3, 1, 0, 3, 3, 4, 0, 0, 2, 3, 4, 2, 2, 0, 3,\n",
              "        1, 2, 0, 4, 4, 3, 2, 1, 3, 3, 1, 2, 2, 0, 3, 1, 2, 2, 0, 2, 1, 0,\n",
              "        3, 3, 4, 2, 1, 1, 1, 4, 0, 3, 2, 1, 1, 1, 0, 3, 3, 1, 2, 3, 3, 2,\n",
              "        1, 4, 2, 3, 2, 3, 0, 0, 4, 0, 0, 0, 1, 0, 3, 4, 3, 1, 1, 0, 2, 4,\n",
              "        4, 3, 4, 1, 2, 4, 3, 4, 2, 3, 1, 4, 3, 2, 2, 4, 2, 3, 1, 3, 0, 0,\n",
              "        0, 3, 0, 1, 1, 2, 4, 2, 1, 2, 2, 2, 2, 1, 4, 0, 3, 4, 3, 4, 1, 1,\n",
              "        4, 1, 2, 0, 1, 1, 4, 4, 0, 3, 3, 0, 1, 0, 0, 1, 0, 2, 1, 1, 4, 2,\n",
              "        4, 0, 3, 0, 3, 2, 4, 1, 3, 4, 1, 1, 1, 3, 2, 0, 1, 1, 3, 4, 2, 0,\n",
              "        3, 1, 3, 2, 4, 3, 0, 4, 3, 3, 4, 0, 3, 3, 0, 2, 2, 2, 1, 2, 2, 4,\n",
              "        2, 4, 1, 0, 3, 3, 1, 4, 0, 2, 4, 2, 2, 1, 3, 0, 4, 1, 1, 3, 2, 3,\n",
              "        4, 0, 4, 3, 0, 1, 0, 1, 4, 2, 1, 0, 4, 2, 3, 1, 1, 2, 2, 3, 3, 0,\n",
              "        4, 2, 3, 0, 2, 1, 1, 2, 2, 0, 4, 4, 2, 1, 0, 2, 4, 4, 3, 1, 1, 4,\n",
              "        0, 2, 1, 0, 4, 0, 1, 3, 0, 0, 0, 3, 2, 4, 4, 1, 2, 2, 3, 2, 0, 1,\n",
              "        0, 4, 4, 3, 0, 4, 4, 0, 1, 0, 2, 4, 0, 1, 0, 0, 1, 2, 4, 2, 3, 4,\n",
              "        4, 2, 1, 1, 1, 1, 4, 0, 0, 4, 4, 3, 0, 2, 1, 3, 4, 2, 0, 3, 2, 0,\n",
              "        0, 0, 0, 3, 3, 3, 1, 0, 1, 2, 0, 1, 3, 2, 2, 4, 2, 3, 3, 4, 3, 4,\n",
              "        2, 1, 1, 4, 1, 1, 0, 3, 0, 3, 3, 3, 4, 0, 2, 4, 0, 0, 1, 1, 1, 3,\n",
              "        2, 3, 3, 4, 2, 3, 1, 3, 2, 0, 2, 1, 1, 0, 0, 3, 4, 2, 4, 3, 0, 4,\n",
              "        4, 4, 1, 2, 4, 0, 4, 1, 4, 1, 0, 0, 3, 2, 3, 4, 3, 0, 0, 2, 4, 2,\n",
              "        4, 0, 0, 2, 0, 2, 4, 4, 3, 2, 2, 4, 0, 0, 3, 3, 3, 3, 4, 2, 4, 0,\n",
              "        2, 2, 2, 3, 0, 2, 2, 2, 1, 2, 1, 4, 3, 4, 3, 3, 4, 4, 3, 1, 1, 4,\n",
              "        1, 4, 0, 2, 2, 1, 0, 4, 4, 0, 0, 4, 1, 4, 2, 3, 1, 1, 1, 2, 1, 1,\n",
              "        4, 4, 3, 2, 3, 0, 0, 2, 0, 0, 3, 3, 3, 4, 4, 4, 3, 4, 4, 4, 1, 4,\n",
              "        0, 2, 3, 0, 0, 3]),\n",
              " 2: array([3, 1, 0, 2, 2, 4, 3, 3, 4, 0, 2, 2, 2, 1, 4, 4, 2, 4, 0, 1, 4, 4,\n",
              "        2, 1, 4, 0, 1, 0, 1, 4, 0, 0, 1, 4, 3, 2, 3, 4, 4, 1, 4, 3, 0, 1,\n",
              "        3, 2, 1, 1, 2, 0, 0, 0, 0, 4, 4, 0, 3, 3, 4, 3, 0, 4, 2, 1, 2, 4,\n",
              "        0, 4, 4, 0, 0, 2, 3, 4, 3, 1, 0, 3, 2, 0, 1, 2, 1, 4, 3, 3, 4, 0,\n",
              "        4, 0, 4, 3, 4, 1, 3, 3, 2, 0, 0, 4, 2, 3, 4, 1, 2, 4, 2, 0, 4, 1,\n",
              "        4, 1, 1, 2, 1, 4, 0, 3, 1, 4, 2, 3, 4, 4, 3, 4, 4, 4, 2, 3, 1, 0,\n",
              "        4, 3, 1, 0, 0, 1, 2, 0, 0, 4, 3, 2, 2, 0, 2, 0, 3, 2, 0, 0, 1, 0,\n",
              "        2, 1, 1, 4, 4, 0, 1, 2, 1, 1, 0, 1, 4, 1, 2, 1, 4, 4, 1, 0, 0, 2,\n",
              "        1, 3, 1, 1, 1, 0, 0, 0, 1, 1, 2, 1, 2, 4, 4, 4, 3, 3, 3, 0, 3, 4,\n",
              "        3, 0, 2, 4, 2, 4, 4, 3, 0, 1, 3, 1, 0, 2, 1, 1, 3, 3, 3, 1, 4, 3,\n",
              "        0, 2, 0, 2, 0, 1, 3, 4, 4, 4, 2, 0, 3, 0, 3, 4, 1, 0, 4, 3, 3, 4,\n",
              "        1, 1, 0, 2, 3, 1, 0, 3, 1, 3, 4, 3, 4, 2, 0, 3, 0, 3, 1, 2, 3, 3,\n",
              "        0, 3, 1, 1, 2, 1, 1, 0, 1, 4, 3, 3, 4, 1, 0, 1, 4, 3, 4, 3, 2, 3,\n",
              "        1, 2, 2, 4, 3, 0, 2, 0, 0, 4, 2, 0, 0, 2, 1, 0, 1, 0, 1, 2, 0, 2,\n",
              "        4, 2, 1, 3, 2, 4, 4, 2, 0, 3, 4, 1, 1, 3, 0, 1, 2, 1, 3, 3, 3, 0,\n",
              "        4, 4, 2, 1, 1, 3, 1, 3, 4, 0, 3, 1, 3, 0, 4, 0, 4, 1, 0, 0, 3, 0,\n",
              "        3, 0, 3, 1, 2, 3, 1, 1, 1, 4, 2, 0, 1, 2, 1, 1, 2, 2, 4, 1, 1, 0,\n",
              "        4, 2, 2, 4, 2, 3, 3, 0, 0, 0, 3, 3, 2, 4, 1, 0, 2, 2, 2, 1, 3, 3,\n",
              "        3, 2, 0, 2, 4, 0, 2, 3, 0, 2, 0, 1, 0, 3, 2, 0, 4, 4, 3, 3, 1, 0,\n",
              "        2, 4, 3, 3, 4, 4, 1, 2, 1, 1, 3, 4, 1, 4, 4, 2, 4, 4, 4, 2, 4, 4,\n",
              "        3, 1, 0, 0, 3, 1, 3, 0, 4, 3, 0, 4, 3, 0, 3, 3, 3, 4, 1, 2, 0, 0,\n",
              "        0, 1, 0, 0, 3, 2, 2, 3, 3, 0, 0, 0, 1, 2, 1, 0, 4, 4, 1, 4, 4, 1,\n",
              "        2, 2, 0, 4, 2, 0, 4, 3, 4, 0, 1, 4, 1, 4, 2, 1, 4, 0, 0, 0, 3, 4,\n",
              "        2, 3, 1, 2, 1, 0])}"
            ]
          },
          "metadata": {
            "tags": []
          },
          "execution_count": 37
        }
      ]
    },
    {
      "cell_type": "code",
      "metadata": {
        "id": "4rQ-yohH0rNp",
        "colab_type": "code",
        "colab": {}
      },
      "source": [
        "masks = [m[l -1][:, None] <= m[l][None, :] for l in range(len(hidden_size))]"
      ],
      "execution_count": 0,
      "outputs": []
    },
    {
      "cell_type": "code",
      "metadata": {
        "id": "TRdctw-d2OTe",
        "colab_type": "code",
        "colab": {
          "base_uri": "https://localhost:8080/",
          "height": 443
        },
        "outputId": "a31299a1-7d84-4e8e-bedb-4ec65d872311"
      },
      "source": [
        "m[1][None, :]"
      ],
      "execution_count": 41,
      "outputs": [
        {
          "output_type": "execute_result",
          "data": {
            "text/plain": [
              "array([[4, 4, 3, 3, 3, 2, 2, 3, 1, 0, 3, 3, 4, 0, 0, 2, 3, 4, 2, 2, 0, 3,\n",
              "        1, 2, 0, 4, 4, 3, 2, 1, 3, 3, 1, 2, 2, 0, 3, 1, 2, 2, 0, 2, 1, 0,\n",
              "        3, 3, 4, 2, 1, 1, 1, 4, 0, 3, 2, 1, 1, 1, 0, 3, 3, 1, 2, 3, 3, 2,\n",
              "        1, 4, 2, 3, 2, 3, 0, 0, 4, 0, 0, 0, 1, 0, 3, 4, 3, 1, 1, 0, 2, 4,\n",
              "        4, 3, 4, 1, 2, 4, 3, 4, 2, 3, 1, 4, 3, 2, 2, 4, 2, 3, 1, 3, 0, 0,\n",
              "        0, 3, 0, 1, 1, 2, 4, 2, 1, 2, 2, 2, 2, 1, 4, 0, 3, 4, 3, 4, 1, 1,\n",
              "        4, 1, 2, 0, 1, 1, 4, 4, 0, 3, 3, 0, 1, 0, 0, 1, 0, 2, 1, 1, 4, 2,\n",
              "        4, 0, 3, 0, 3, 2, 4, 1, 3, 4, 1, 1, 1, 3, 2, 0, 1, 1, 3, 4, 2, 0,\n",
              "        3, 1, 3, 2, 4, 3, 0, 4, 3, 3, 4, 0, 3, 3, 0, 2, 2, 2, 1, 2, 2, 4,\n",
              "        2, 4, 1, 0, 3, 3, 1, 4, 0, 2, 4, 2, 2, 1, 3, 0, 4, 1, 1, 3, 2, 3,\n",
              "        4, 0, 4, 3, 0, 1, 0, 1, 4, 2, 1, 0, 4, 2, 3, 1, 1, 2, 2, 3, 3, 0,\n",
              "        4, 2, 3, 0, 2, 1, 1, 2, 2, 0, 4, 4, 2, 1, 0, 2, 4, 4, 3, 1, 1, 4,\n",
              "        0, 2, 1, 0, 4, 0, 1, 3, 0, 0, 0, 3, 2, 4, 4, 1, 2, 2, 3, 2, 0, 1,\n",
              "        0, 4, 4, 3, 0, 4, 4, 0, 1, 0, 2, 4, 0, 1, 0, 0, 1, 2, 4, 2, 3, 4,\n",
              "        4, 2, 1, 1, 1, 1, 4, 0, 0, 4, 4, 3, 0, 2, 1, 3, 4, 2, 0, 3, 2, 0,\n",
              "        0, 0, 0, 3, 3, 3, 1, 0, 1, 2, 0, 1, 3, 2, 2, 4, 2, 3, 3, 4, 3, 4,\n",
              "        2, 1, 1, 4, 1, 1, 0, 3, 0, 3, 3, 3, 4, 0, 2, 4, 0, 0, 1, 1, 1, 3,\n",
              "        2, 3, 3, 4, 2, 3, 1, 3, 2, 0, 2, 1, 1, 0, 0, 3, 4, 2, 4, 3, 0, 4,\n",
              "        4, 4, 1, 2, 4, 0, 4, 1, 4, 1, 0, 0, 3, 2, 3, 4, 3, 0, 0, 2, 4, 2,\n",
              "        4, 0, 0, 2, 0, 2, 4, 4, 3, 2, 2, 4, 0, 0, 3, 3, 3, 3, 4, 2, 4, 0,\n",
              "        2, 2, 2, 3, 0, 2, 2, 2, 1, 2, 1, 4, 3, 4, 3, 3, 4, 4, 3, 1, 1, 4,\n",
              "        1, 4, 0, 2, 2, 1, 0, 4, 4, 0, 0, 4, 1, 4, 2, 3, 1, 1, 1, 2, 1, 1,\n",
              "        4, 4, 3, 2, 3, 0, 0, 2, 0, 0, 3, 3, 3, 4, 4, 4, 3, 4, 4, 4, 1, 4,\n",
              "        0, 2, 3, 0, 0, 3]])"
            ]
          },
          "metadata": {
            "tags": []
          },
          "execution_count": 41
        }
      ]
    },
    {
      "cell_type": "code",
      "metadata": {
        "id": "zFx25FhI2UyS",
        "colab_type": "code",
        "colab": {}
      },
      "source": [
        "masks.append(m[3-1][:,None]< m[-1][None,:])"
      ],
      "execution_count": 0,
      "outputs": []
    },
    {
      "cell_type": "code",
      "metadata": {
        "id": "9EA0HadS3Pmp",
        "colab_type": "code",
        "colab": {
          "base_uri": "https://localhost:8080/",
          "height": 496
        },
        "outputId": "cb495488-99c9-4e1c-8f2f-6c979cc0342a"
      },
      "source": [
        "masks"
      ],
      "execution_count": 43,
      "outputs": [
        {
          "output_type": "execute_result",
          "data": {
            "text/plain": [
              "[array([[ True,  True,  True, ...,  True,  True,  True],\n",
              "        [ True,  True,  True, ...,  True,  True,  True],\n",
              "        [ True,  True,  True, ...,  True,  True,  True],\n",
              "        [False,  True, False, ...,  True,  True, False],\n",
              "        [False, False, False, ..., False, False, False],\n",
              "        [False, False, False, ..., False, False, False]]),\n",
              " array([[ True,  True,  True, ..., False, False,  True],\n",
              "        [ True,  True,  True, ..., False, False,  True],\n",
              "        [ True,  True,  True, ..., False, False,  True],\n",
              "        ...,\n",
              "        [ True,  True,  True, ..., False, False,  True],\n",
              "        [ True,  True,  True, ..., False, False,  True],\n",
              "        [ True,  True,  True, ..., False, False,  True]]),\n",
              " array([[False, False, False, ..., False, False, False],\n",
              "        [False, False, False, ..., False, False, False],\n",
              "        [ True, False, False, ..., False, False, False],\n",
              "        ...,\n",
              "        [ True,  True,  True, ...,  True,  True,  True],\n",
              "        [ True,  True,  True, ...,  True,  True,  True],\n",
              "        [ True, False, False, ..., False, False, False]]),\n",
              " array([[False, False, False, False,  True,  True],\n",
              "        [False, False,  True,  True,  True,  True],\n",
              "        [False,  True,  True,  True,  True,  True],\n",
              "        ...,\n",
              "        [False, False, False,  True,  True,  True],\n",
              "        [False, False,  True,  True,  True,  True],\n",
              "        [False,  True,  True,  True,  True,  True]])]"
            ]
          },
          "metadata": {
            "tags": []
          },
          "execution_count": 43
        }
      ]
    },
    {
      "cell_type": "code",
      "metadata": {
        "id": "8IoYcrJW3RB8",
        "colab_type": "code",
        "colab": {}
      },
      "source": [
        "masks[-1] = np.repeat(masks[-1], 100, axis=1)"
      ],
      "execution_count": 0,
      "outputs": []
    },
    {
      "cell_type": "code",
      "metadata": {
        "id": "jkB0sQ-K38KB",
        "colab_type": "code",
        "colab": {
          "base_uri": "https://localhost:8080/",
          "height": 34
        },
        "outputId": "39029e63-bbab-4f4a-bb4f-93d1ddd9fd6b"
      },
      "source": [
        "masks[-1]\n",
        "masks[-1].shape"
      ],
      "execution_count": 46,
      "outputs": [
        {
          "output_type": "execute_result",
          "data": {
            "text/plain": [
              "(512, 600)"
            ]
          },
          "metadata": {
            "tags": []
          },
          "execution_count": 46
        }
      ]
    },
    {
      "cell_type": "code",
      "metadata": {
        "id": "mQTGf8A64EeX",
        "colab_type": "code",
        "colab": {
          "base_uri": "https://localhost:8080/",
          "height": 34
        },
        "outputId": "d7a9785c-04ce-4932-cc7b-0a4c091ce16f"
      },
      "source": [
        "masks[0].shape"
      ],
      "execution_count": 47,
      "outputs": [
        {
          "output_type": "execute_result",
          "data": {
            "text/plain": [
              "(6, 512)"
            ]
          },
          "metadata": {
            "tags": []
          },
          "execution_count": 47
        }
      ]
    },
    {
      "cell_type": "code",
      "metadata": {
        "id": "mFJl_0W_4WL1",
        "colab_type": "code",
        "colab": {}
      },
      "source": [
        ""
      ],
      "execution_count": 0,
      "outputs": []
    }
  ]
}